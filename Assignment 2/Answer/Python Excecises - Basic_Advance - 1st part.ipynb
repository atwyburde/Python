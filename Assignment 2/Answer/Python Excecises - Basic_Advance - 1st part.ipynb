{
 "cells": [
  {
   "cell_type": "code",
   "execution_count": null,
   "id": "71b83f32",
   "metadata": {},
   "outputs": [],
   "source": [
    "name=(\"Ankita\")\n",
    "email=(\"xyz@topmentor.com\")\n",
    "print(name,email)"
   ]
  },
  {
   "cell_type": "code",
   "execution_count": 2,
   "id": "7c1ad55b",
   "metadata": {},
   "outputs": [
    {
     "name": "stdout",
     "output_type": "stream",
     "text": [
      "Enter your name Ankita\n",
      "Hello Ankita\n"
     ]
    }
   ],
   "source": [
    "name=input(\"Enter your name \")\n",
    "print(\"Hello\", name)"
   ]
  },
  {
   "cell_type": "code",
   "execution_count": 5,
   "id": "2d7049d1",
   "metadata": {},
   "outputs": [
    {
     "name": "stdout",
     "output_type": "stream",
     "text": [
      "Enter width of the room: 14.6\n",
      "Enter length of the room: 17.3\n",
      "The area of the room is 252.580000 m square\n"
     ]
    }
   ],
   "source": [
    "width=float(input(\"Enter width of the room: \"))\n",
    "length=float(input(\"Enter length of the room: \"))\n",
    "area=width*length\n",
    "print(\"The area of the room is %f m square\"%(area))"
   ]
  },
  {
   "cell_type": "code",
   "execution_count": 9,
   "id": "4d699c5e",
   "metadata": {},
   "outputs": [
    {
     "name": "stdout",
     "output_type": "stream",
     "text": [
      "Enter width of the room: 33500\n",
      "Enter length of the room: 45630\n",
      "There are 1528605000.000000 square feet in an acre\n"
     ]
    }
   ],
   "source": [
    "width=float(input(\"Enter width of the room: \"))\n",
    "length=float(input(\"Enter length of the room: \"))\n",
    "area=width*length\n",
    "print(\"There are %f square feet in an acre\"%(area))"
   ]
  },
  {
   "cell_type": "code",
   "execution_count": 14,
   "id": "6e8840c9",
   "metadata": {},
   "outputs": [
    {
     "name": "stdout",
     "output_type": "stream",
     "text": [
      "Enter width of the room: 1200\n",
      "Enter length of the room: 1400\n",
      "There are 1680000.000000,round(area,2) square feet in an acre 1680000.0\n"
     ]
    }
   ],
   "source": [
    "width=float(input(\"Enter width of the room: \"))\n",
    "length=float(input(\"Enter length of the room: \"))\n",
    "area=width*length\n",
    "print(\"There are %f,round(area,2) square feet in an acre\"%(area),round(area,0))"
   ]
  },
  {
   "cell_type": "code",
   "execution_count": 15,
   "id": "1e4e20ca",
   "metadata": {},
   "outputs": [
    {
     "name": "stdout",
     "output_type": "stream",
     "text": [
      "How many 1 litre or less bottle\n",
      "500\n",
      "How many more than 1 litre bottle\n",
      "850\n",
      "Your total refund will be $ 262.5\n"
     ]
    }
   ],
   "source": [
    "ld=0.10\n",
    "md=0.25\n",
    "l=int(input(\"How many 1 litre or less bottle\\n\"))\n",
    "m=int(input(\"How many more than 1 litre bottle\\n\"))\n",
    "r=ld*l+md*m\n",
    "print(\"Your total refund will be $\",round(r,2))"
   ]
  },
  {
   "cell_type": "code",
   "execution_count": 22,
   "id": "a226840d",
   "metadata": {},
   "outputs": [
    {
     "name": "stdout",
     "output_type": "stream",
     "text": [
      "How much did your meal cost? 1900\n",
      "Your tax amount is Rs 95.00\n",
      "Your tip amount is Rs 342.00\n",
      "Your total meal cost is Rs 2337.00\n"
     ]
    }
   ],
   "source": [
    "# assume 5% tax rate\n",
    "# assume 18% tip\n",
    "meal=float(input(\"How much did your meal cost? \"))\n",
    "tax_rate=meal*0.05\n",
    "tip=meal*0.18\n",
    "total_cost=meal + (meal*0.05) + (meal*0.18)\n",
    "print(\"Your tax amount is Rs %.2f\" % tax_rate)\n",
    "print(\"Your tip amount is Rs %.2f\" % tip)\n",
    "print(\"Your total meal cost is Rs %.2f\" % total_cost)"
   ]
  },
  {
   "cell_type": "code",
   "execution_count": 24,
   "id": "538a52ab",
   "metadata": {},
   "outputs": [
    {
     "name": "stdout",
     "output_type": "stream",
     "text": [
      "Enter your value in mpg 45\n",
      "10584.675 L/100\n"
     ]
    }
   ],
   "source": [
    "# 1 mpg (American unit) = 235.215 L/100 (Canadian unit)\n",
    "mpg=float(input(\"Enter your value in mpg \"))\n",
    "a=mpg*(235.215)\n",
    "print(a, \"L/100\")"
   ]
  },
  {
   "cell_type": "code",
   "execution_count": 5,
   "id": "83b6a865",
   "metadata": {},
   "outputs": [
    {
     "name": "stdout",
     "output_type": "stream",
     "text": [
      "Your height in feet 12\n",
      "Your height in inch 154\n",
      "Your Height is 756.9 cms.\n"
     ]
    }
   ],
   "source": [
    "h_feet=int(input(\"Your height in feet \"))\n",
    "h_inch=int(input(\"Your height in inch \"))\n",
    "a=h_inch+(h_feet*12)\n",
    "h_cm=round(a*2.54,1)\n",
    "print(f\"Your Height is {h_cm} cms.\")"
   ]
  },
  {
   "cell_type": "code",
   "execution_count": null,
   "id": "01b8efe1",
   "metadata": {},
   "outputs": [],
   "source": []
  }
 ],
 "metadata": {
  "kernelspec": {
   "display_name": "Python 3 (ipykernel)",
   "language": "python",
   "name": "python3"
  },
  "language_info": {
   "codemirror_mode": {
    "name": "ipython",
    "version": 3
   },
   "file_extension": ".py",
   "mimetype": "text/x-python",
   "name": "python",
   "nbconvert_exporter": "python",
   "pygments_lexer": "ipython3",
   "version": "3.10.9"
  }
 },
 "nbformat": 4,
 "nbformat_minor": 5
}
