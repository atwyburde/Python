{
 "cells": [
  {
   "cell_type": "code",
   "execution_count": 5,
   "id": "a4250b22",
   "metadata": {},
   "outputs": [
    {
     "name": "stdout",
     "output_type": "stream",
     "text": [
      "10\n"
     ]
    }
   ],
   "source": [
    "a=10\n",
    "print(a)"
   ]
  },
  {
   "cell_type": "code",
   "execution_count": 6,
   "id": "997a6aa3",
   "metadata": {},
   "outputs": [
    {
     "name": "stdout",
     "output_type": "stream",
     "text": [
      "20\n"
     ]
    }
   ],
   "source": [
    "a=20\n",
    "print(a)"
   ]
  },
  {
   "cell_type": "code",
   "execution_count": 7,
   "id": "2ec3cbbe",
   "metadata": {},
   "outputs": [
    {
     "name": "stdout",
     "output_type": "stream",
     "text": [
      "Hello Ankita, have you created your github profile?\n"
     ]
    }
   ],
   "source": [
    "a=\"Hello Ankita, have you created your github profile?\"\n",
    "print(a)"
   ]
  },
  {
   "cell_type": "code",
   "execution_count": 39,
   "id": "3639ab6d",
   "metadata": {},
   "outputs": [
    {
     "name": "stdout",
     "output_type": "stream",
     "text": [
      "Mahatma Gandhi once said, \"You must be the change you wish to see in the world\"\n"
     ]
    }
   ],
   "source": [
    "# Inspirational Quote\n",
    "a= 'Mahatma Gandhi once said, \"You must be the change you wish to see in the world\"'\n",
    "print(a)"
   ]
  },
  {
   "cell_type": "code",
   "execution_count": 22,
   "id": "1c4fd9fe",
   "metadata": {},
   "outputs": [
    {
     "name": "stdout",
     "output_type": "stream",
     "text": [
      "You must be the change you wish to see in the world\n"
     ]
    }
   ],
   "source": [
    "famous_person=\"Mahatma Gandhi\"\n",
    "message=\"You must be the change you wish to see in the world\"\n",
    "print(message)"
   ]
  },
  {
   "cell_type": "code",
   "execution_count": 38,
   "id": "ab470f26",
   "metadata": {},
   "outputs": [
    {
     "name": "stdout",
     "output_type": "stream",
     "text": [
      "8\n",
      "8\n",
      "8\n",
      "8.0\n"
     ]
    }
   ],
   "source": [
    "# Mathematical Operations\n",
    "print(6+2)\n",
    "print(10-2)\n",
    "print(4*2)\n",
    "print(16/2)"
   ]
  },
  {
   "cell_type": "code",
   "execution_count": 37,
   "id": "6d31be3b",
   "metadata": {},
   "outputs": [
    {
     "name": "stdout",
     "output_type": "stream",
     "text": [
      "Your favourite number is  12\n"
     ]
    }
   ],
   "source": [
    "a=12\n",
    "b=\"Your favourite number is \"\n",
    "print(b,a)"
   ]
  },
  {
   "cell_type": "code",
   "execution_count": 54,
   "id": "a5ee93d0",
   "metadata": {},
   "outputs": [
    {
     "name": "stdout",
     "output_type": "stream",
     "text": [
      "Ankita\n",
      "Yashodeep\n",
      "Tulasa\n",
      "Waman\n"
     ]
    }
   ],
   "source": [
    "list=[\"Ankita\", \"Yashodeep\", \"Tulasa\", \"Waman\"]\n",
    "print(list[0])\n",
    "print(list[1])\n",
    "print(list[2])\n",
    "print(list[3])"
   ]
  },
  {
   "cell_type": "code",
   "execution_count": 61,
   "id": "00bc4406",
   "metadata": {},
   "outputs": [
    {
     "name": "stdout",
     "output_type": "stream",
     "text": [
      "You are very intelligent Ankita\n",
      "You are very intelligent Yashodeep\n",
      "You are very intelligent Tulasa\n",
      "You are very intelligent Waman\n"
     ]
    }
   ],
   "source": [
    "list=[\"Ankita\", \"Yashodeep\", \"Tulasa\", \"Waman\"]\n",
    "a=\"You are very intelligent\"\n",
    "print(a,list[0])\n",
    "print(a,list[1])\n",
    "print(a,list[2])\n",
    "print(a,list[3])"
   ]
  },
  {
   "cell_type": "code",
   "execution_count": 66,
   "id": "c85ee62f",
   "metadata": {},
   "outputs": [
    {
     "name": "stdout",
     "output_type": "stream",
     "text": [
      "I love riding a Bicycle\n",
      "Auto  is a comfortable mode of transport\n",
      "Train  is a cheap public transport\n",
      "Aeroplane  is a costly public transport\n",
      "I want to own a Car\n"
     ]
    }
   ],
   "source": [
    "list=[\"Car\", \"Auto\", \"Bicycle\", \"Train\", \"Aeroplane\"]\n",
    "a=\"I love riding a\"\n",
    "b=\" is a comfortable mode of transport\"\n",
    "c=\" is a cheap public transport\"\n",
    "d=\" is a costly public transport\"\n",
    "e=\"I want to own a\"\n",
    "print(a,list[2])\n",
    "print(list[1],b)\n",
    "print(list[3],c)\n",
    "print(list[4],d)\n",
    "print(e,list[0])"
   ]
  },
  {
   "cell_type": "code",
   "execution_count": null,
   "id": "a8b9ab69",
   "metadata": {},
   "outputs": [],
   "source": []
  }
 ],
 "metadata": {
  "kernelspec": {
   "display_name": "Python 3 (ipykernel)",
   "language": "python",
   "name": "python3"
  },
  "language_info": {
   "codemirror_mode": {
    "name": "ipython",
    "version": 3
   },
   "file_extension": ".py",
   "mimetype": "text/x-python",
   "name": "python",
   "nbconvert_exporter": "python",
   "pygments_lexer": "ipython3",
   "version": "3.10.9"
  }
 },
 "nbformat": 4,
 "nbformat_minor": 5
}
